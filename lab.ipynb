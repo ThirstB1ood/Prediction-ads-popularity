{
 "cells": [
  {
   "cell_type": "code",
   "execution_count": null,
   "metadata": {
    "id": "qhxsxiai8zNY"
   },
   "outputs": [],
   "source": [
    "import pandas as pd\n",
    "import matplotlib.pyplot as plt\n",
    "import numpy as np"
   ]
  },
  {
   "cell_type": "code",
   "execution_count": null,
   "metadata": {
    "id": "2JxS31YV8RUC"
   },
   "outputs": [],
   "source": [
    "data = pd.read_csv('/content/drive/MyDrive/houses_ads_popularity.csv')"
   ]
  },
  {
   "cell_type": "markdown",
   "metadata": {
    "id": "GxFC5ROKjpmT"
   },
   "source": [
    "# Explotatory Data Analysis"
   ]
  },
  {
   "cell_type": "code",
   "execution_count": null,
   "metadata": {
    "colab": {
     "base_uri": "https://localhost:8080/"
    },
    "id": "pyr5SgWg95bG",
    "outputId": "2bfb8331-29c9-4aa3-9b95-f2eb820c1ab8"
   },
   "outputs": [
    {
     "name": "stdout",
     "output_type": "stream",
     "text": [
      "<class 'pandas.core.frame.DataFrame'>\n",
      "RangeIndex: 34546 entries, 0 to 34545\n",
      "Data columns (total 16 columns):\n",
      " #   Column           Non-Null Count  Dtype  \n",
      "---  ------           --------------  -----  \n",
      " 0   Id               34546 non-null  int64  \n",
      " 1   bathrooms        34546 non-null  float64\n",
      " 2   bedrooms         34546 non-null  int64  \n",
      " 3   building_id      34546 non-null  object \n",
      " 4   created          34546 non-null  object \n",
      " 5   description      33509 non-null  object \n",
      " 6   display_address  34458 non-null  object \n",
      " 7   features         34546 non-null  object \n",
      " 8   latitude         34546 non-null  float64\n",
      " 9   listing_id       34546 non-null  int64  \n",
      " 10  longitude        34546 non-null  float64\n",
      " 11  manager_id       34546 non-null  object \n",
      " 12  photos           34546 non-null  object \n",
      " 13  price            34546 non-null  int64  \n",
      " 14  street_address   34542 non-null  object \n",
      " 15  TARGET           34546 non-null  object \n",
      "dtypes: float64(3), int64(4), object(9)\n",
      "memory usage: 4.2+ MB\n"
     ]
    }
   ],
   "source": [
    "data.info()"
   ]
  },
  {
   "cell_type": "markdown",
   "metadata": {
    "id": "vuDIogkdkgy-"
   },
   "source": [
    "Датасет содержит 16 переменных, из которых 7 числовых."
   ]
  },
  {
   "cell_type": "code",
   "execution_count": null,
   "metadata": {
    "colab": {
     "base_uri": "https://localhost:8080/",
     "height": 361
    },
    "id": "SNEILNksDHne",
    "outputId": "e3b92544-a537-4d44-f6d3-253255c07a19"
   },
   "outputs": [
    {
     "data": {
      "text/html": [
       "\n",
       "  <div id=\"df-63c32813-e75f-4369-a582-c43921438306\">\n",
       "    <div class=\"colab-df-container\">\n",
       "      <div>\n",
       "<style scoped>\n",
       "    .dataframe tbody tr th:only-of-type {\n",
       "        vertical-align: middle;\n",
       "    }\n",
       "\n",
       "    .dataframe tbody tr th {\n",
       "        vertical-align: top;\n",
       "    }\n",
       "\n",
       "    .dataframe thead th {\n",
       "        text-align: right;\n",
       "    }\n",
       "</style>\n",
       "<table border=\"1\" class=\"dataframe\">\n",
       "  <thead>\n",
       "    <tr style=\"text-align: right;\">\n",
       "      <th></th>\n",
       "      <th>Id</th>\n",
       "      <th>bathrooms</th>\n",
       "      <th>bedrooms</th>\n",
       "      <th>latitude</th>\n",
       "      <th>listing_id</th>\n",
       "      <th>longitude</th>\n",
       "      <th>price</th>\n",
       "    </tr>\n",
       "  </thead>\n",
       "  <tbody>\n",
       "    <tr>\n",
       "      <th>count</th>\n",
       "      <td>34546.000000</td>\n",
       "      <td>34546.000000</td>\n",
       "      <td>34546.000000</td>\n",
       "      <td>34546.000000</td>\n",
       "      <td>3.454600e+04</td>\n",
       "      <td>34546.000000</td>\n",
       "      <td>3.454600e+04</td>\n",
       "    </tr>\n",
       "    <tr>\n",
       "      <th>mean</th>\n",
       "      <td>61873.351618</td>\n",
       "      <td>1.211182</td>\n",
       "      <td>1.540815</td>\n",
       "      <td>40.741878</td>\n",
       "      <td>7.024901e+06</td>\n",
       "      <td>-73.954803</td>\n",
       "      <td>3.888823e+03</td>\n",
       "    </tr>\n",
       "    <tr>\n",
       "      <th>std</th>\n",
       "      <td>35718.160364</td>\n",
       "      <td>0.496217</td>\n",
       "      <td>1.116735</td>\n",
       "      <td>0.622257</td>\n",
       "      <td>1.263556e+05</td>\n",
       "      <td>1.126953</td>\n",
       "      <td>2.630662e+04</td>\n",
       "    </tr>\n",
       "    <tr>\n",
       "      <th>min</th>\n",
       "      <td>6.000000</td>\n",
       "      <td>0.000000</td>\n",
       "      <td>0.000000</td>\n",
       "      <td>0.000000</td>\n",
       "      <td>6.811965e+06</td>\n",
       "      <td>-75.521400</td>\n",
       "      <td>4.500000e+01</td>\n",
       "    </tr>\n",
       "    <tr>\n",
       "      <th>25%</th>\n",
       "      <td>30839.250000</td>\n",
       "      <td>1.000000</td>\n",
       "      <td>1.000000</td>\n",
       "      <td>40.728000</td>\n",
       "      <td>6.917211e+06</td>\n",
       "      <td>-73.991700</td>\n",
       "      <td>2.500000e+03</td>\n",
       "    </tr>\n",
       "    <tr>\n",
       "      <th>50%</th>\n",
       "      <td>61822.500000</td>\n",
       "      <td>1.000000</td>\n",
       "      <td>1.000000</td>\n",
       "      <td>40.751600</td>\n",
       "      <td>7.021834e+06</td>\n",
       "      <td>-73.977900</td>\n",
       "      <td>3.150000e+03</td>\n",
       "    </tr>\n",
       "    <tr>\n",
       "      <th>75%</th>\n",
       "      <td>92705.500000</td>\n",
       "      <td>1.000000</td>\n",
       "      <td>2.000000</td>\n",
       "      <td>40.774000</td>\n",
       "      <td>7.130020e+06</td>\n",
       "      <td>-73.954900</td>\n",
       "      <td>4.100000e+03</td>\n",
       "    </tr>\n",
       "    <tr>\n",
       "      <th>max</th>\n",
       "      <td>124009.000000</td>\n",
       "      <td>6.000000</td>\n",
       "      <td>8.000000</td>\n",
       "      <td>44.603800</td>\n",
       "      <td>7.742803e+06</td>\n",
       "      <td>0.000000</td>\n",
       "      <td>4.490000e+06</td>\n",
       "    </tr>\n",
       "  </tbody>\n",
       "</table>\n",
       "</div>\n",
       "      <button class=\"colab-df-convert\" onclick=\"convertToInteractive('df-63c32813-e75f-4369-a582-c43921438306')\"\n",
       "              title=\"Convert this dataframe to an interactive table.\"\n",
       "              style=\"display:none;\">\n",
       "        \n",
       "  <svg xmlns=\"http://www.w3.org/2000/svg\" height=\"24px\"viewBox=\"0 0 24 24\"\n",
       "       width=\"24px\">\n",
       "    <path d=\"M0 0h24v24H0V0z\" fill=\"none\"/>\n",
       "    <path d=\"M18.56 5.44l.94 2.06.94-2.06 2.06-.94-2.06-.94-.94-2.06-.94 2.06-2.06.94zm-11 1L8.5 8.5l.94-2.06 2.06-.94-2.06-.94L8.5 2.5l-.94 2.06-2.06.94zm10 10l.94 2.06.94-2.06 2.06-.94-2.06-.94-.94-2.06-.94 2.06-2.06.94z\"/><path d=\"M17.41 7.96l-1.37-1.37c-.4-.4-.92-.59-1.43-.59-.52 0-1.04.2-1.43.59L10.3 9.45l-7.72 7.72c-.78.78-.78 2.05 0 2.83L4 21.41c.39.39.9.59 1.41.59.51 0 1.02-.2 1.41-.59l7.78-7.78 2.81-2.81c.8-.78.8-2.07 0-2.86zM5.41 20L4 18.59l7.72-7.72 1.47 1.35L5.41 20z\"/>\n",
       "  </svg>\n",
       "      </button>\n",
       "      \n",
       "  <style>\n",
       "    .colab-df-container {\n",
       "      display:flex;\n",
       "      flex-wrap:wrap;\n",
       "      gap: 12px;\n",
       "    }\n",
       "\n",
       "    .colab-df-convert {\n",
       "      background-color: #E8F0FE;\n",
       "      border: none;\n",
       "      border-radius: 50%;\n",
       "      cursor: pointer;\n",
       "      display: none;\n",
       "      fill: #1967D2;\n",
       "      height: 32px;\n",
       "      padding: 0 0 0 0;\n",
       "      width: 32px;\n",
       "    }\n",
       "\n",
       "    .colab-df-convert:hover {\n",
       "      background-color: #E2EBFA;\n",
       "      box-shadow: 0px 1px 2px rgba(60, 64, 67, 0.3), 0px 1px 3px 1px rgba(60, 64, 67, 0.15);\n",
       "      fill: #174EA6;\n",
       "    }\n",
       "\n",
       "    [theme=dark] .colab-df-convert {\n",
       "      background-color: #3B4455;\n",
       "      fill: #D2E3FC;\n",
       "    }\n",
       "\n",
       "    [theme=dark] .colab-df-convert:hover {\n",
       "      background-color: #434B5C;\n",
       "      box-shadow: 0px 1px 3px 1px rgba(0, 0, 0, 0.15);\n",
       "      filter: drop-shadow(0px 1px 2px rgba(0, 0, 0, 0.3));\n",
       "      fill: #FFFFFF;\n",
       "    }\n",
       "  </style>\n",
       "\n",
       "      <script>\n",
       "        const buttonEl =\n",
       "          document.querySelector('#df-63c32813-e75f-4369-a582-c43921438306 button.colab-df-convert');\n",
       "        buttonEl.style.display =\n",
       "          google.colab.kernel.accessAllowed ? 'block' : 'none';\n",
       "\n",
       "        async function convertToInteractive(key) {\n",
       "          const element = document.querySelector('#df-63c32813-e75f-4369-a582-c43921438306');\n",
       "          const dataTable =\n",
       "            await google.colab.kernel.invokeFunction('convertToInteractive',\n",
       "                                                     [key], {});\n",
       "          if (!dataTable) return;\n",
       "\n",
       "          const docLinkHtml = 'Like what you see? Visit the ' +\n",
       "            '<a target=\"_blank\" href=https://colab.research.google.com/notebooks/data_table.ipynb>data table notebook</a>'\n",
       "            + ' to learn more about interactive tables.';\n",
       "          element.innerHTML = '';\n",
       "          dataTable['output_type'] = 'display_data';\n",
       "          await google.colab.output.renderOutput(dataTable, element);\n",
       "          const docLink = document.createElement('div');\n",
       "          docLink.innerHTML = docLinkHtml;\n",
       "          element.appendChild(docLink);\n",
       "        }\n",
       "      </script>\n",
       "    </div>\n",
       "  </div>\n",
       "  "
      ],
      "text/plain": [
       "                  Id     bathrooms      bedrooms      latitude    listing_id  \\\n",
       "count   34546.000000  34546.000000  34546.000000  34546.000000  3.454600e+04   \n",
       "mean    61873.351618      1.211182      1.540815     40.741878  7.024901e+06   \n",
       "std     35718.160364      0.496217      1.116735      0.622257  1.263556e+05   \n",
       "min         6.000000      0.000000      0.000000      0.000000  6.811965e+06   \n",
       "25%     30839.250000      1.000000      1.000000     40.728000  6.917211e+06   \n",
       "50%     61822.500000      1.000000      1.000000     40.751600  7.021834e+06   \n",
       "75%     92705.500000      1.000000      2.000000     40.774000  7.130020e+06   \n",
       "max    124009.000000      6.000000      8.000000     44.603800  7.742803e+06   \n",
       "\n",
       "          longitude         price  \n",
       "count  34546.000000  3.454600e+04  \n",
       "mean     -73.954803  3.888823e+03  \n",
       "std        1.126953  2.630662e+04  \n",
       "min      -75.521400  4.500000e+01  \n",
       "25%      -73.991700  2.500000e+03  \n",
       "50%      -73.977900  3.150000e+03  \n",
       "75%      -73.954900  4.100000e+03  \n",
       "max        0.000000  4.490000e+06  "
      ]
     },
     "execution_count": 304,
     "metadata": {},
     "output_type": "execute_result"
    }
   ],
   "source": [
    "data.describe()"
   ]
  },
  {
   "cell_type": "code",
   "execution_count": null,
   "metadata": {
    "colab": {
     "base_uri": "https://localhost:8080/",
     "height": 54
    },
    "id": "eGVGLavbm70m",
    "outputId": "eaf3e01f-5ae9-4dbe-badd-419f95f67b2b"
   },
   "outputs": [
    {
     "data": {
      "image/png": "[encoded data removed]",
      "text/plain": [
       "<Figure size 640x480 with 1 Axes>"
      ]
     },
     "metadata": {},
     "output_type": "display_data"
    }
   ],
   "source": [
    "bathrooms_count = data.bathrooms\n",
    "fig, ax = plt.subplots()\n",
    "bathrooms_count.value_counts().plot(kind='bar', ax=ax, xlabel='Bathrooms', ylabel='Count', rot=0)\n",
    "\n",
    "ax.legend([\"Count\"]);\n",
    "ax.set_title('Bathrooms count')\n",
    "    \n",
    "plt.show()"
   ]
  },
  {
   "cell_type": "code",
   "execution_count": null,
   "metadata": {
    "colab": {
     "base_uri": "https://localhost:8080/",
     "height": 54
    },
    "id": "V1jnwvdZo2gF",
    "outputId": "f1ea90cb-3390-4228-a0dd-f4f915aec202"
   },
   "outputs": [
    {
     "data": {
      "image/png": "[encoded data removed]",
      "text/plain": [
       "<Figure size 640x480 with 1 Axes>"
      ]
     },
     "metadata": {},
     "output_type": "display_data"
    }
   ],
   "source": [
    "bedrooms_count = data.bedrooms\n",
    "fig, ax = plt.subplots()\n",
    "bedrooms_count.value_counts().plot(kind='bar', ax=ax, xlabel='Bedrooms', ylabel='Count', rot=0)\n",
    "\n",
    "ax.legend([\"Count\"]);\n",
    "ax.set_title('Bedrooms count')\n",
    "    \n",
    "plt.show()"
   ]
  },
  {
   "cell_type": "code",
   "execution_count": null,
   "metadata": {
    "colab": {
     "base_uri": "https://localhost:8080/",
     "height": 54
    },
    "id": "Ba3KiCvne4aY",
    "outputId": "2e7c2695-00bf-4175-c607-2d8c0c39134f"
   },
   "outputs": [
    {
     "data": {
      "image/png": "[encoded data removed]",
      "text/plain": [
       "<Figure size 640x480 with 1 Axes>"
      ]
     },
     "metadata": {},
     "output_type": "display_data"
    }
   ],
   "source": [
    "price_count = data.price\n",
    "fig, ax = plt.subplots()\n",
    "price_count.value_counts()[:10].plot(kind='bar', ax=ax, xlabel='Price', ylabel='Count', rot=0)\n",
    "\n",
    "ax.legend([\"Count\"]);\n",
    "ax.set_title('Price count')\n",
    "    \n",
    "plt.show()"
   ]
  },
  {
   "cell_type": "code",
   "execution_count": null,
   "metadata": {
    "colab": {
     "base_uri": "https://localhost:8080/",
     "height": 54
    },
    "id": "l1gCgkIDdVvi",
    "outputId": "235de313-1910-480f-a3f1-58f356b3a313"
   },
   "outputs": [
    {
     "data": {
      "image/png": "[encoded data removed]",
      "text/plain": [
       "<Figure size 1000x1000 with 9 Axes>"
      ]
     },
     "metadata": {},
     "output_type": "display_data"
    }
   ],
   "source": [
    "data.hist(figsize=(10, 10))\n",
    "plt.show()"
   ]
  },
  {
   "cell_type": "code",
   "execution_count": null,
   "metadata": {
    "colab": {
     "base_uri": "https://localhost:8080/",
     "height": 54
    },
    "id": "WkEPj6lnlzup",
    "outputId": "3e1b111f-73a8-46a9-d3fc-9649695c2e86"
   },
   "outputs": [
    {
     "data": {
      "image/png": "[encoded data removed]",
      "text/plain": [
       "<Figure size 1000x1000 with 2 Axes>"
      ]
     },
     "metadata": {},
     "output_type": "display_data"
    }
   ],
   "source": [
    "corr_matrix = data.corr(numeric_only=True)\n",
    "plt.figure(figsize=(10, 10))\n",
    "plt.imshow(corr_matrix, cmap='coolwarm', interpolation='none')\n",
    "plt.colorbar()\n",
    "plt.xticks(range(len(corr_matrix)), corr_matrix.columns, rotation=90)\n",
    "plt.yticks(range(len(corr_matrix)), corr_matrix.columns)\n",
    "plt.show()"
   ]
  },
  {
   "cell_type": "markdown",
   "metadata": {
    "id": "64YJobSOmByo"
   },
   "source": [
    "По этому графику видно, что есть прямая зависимость между число спален и число ванных комнат, а также обратная зависимость между шириной и долготой. Также на графике видно зависимость между Id и listing_id, однако на мой взгляд эти переменные не оказывают какое-либо существенное влияние на TARGET, так как это лишь уникальные идентификаторы объявлений."
   ]
  },
  {
   "cell_type": "markdown",
   "metadata": {
    "id": "UtSZViO_m7Od"
   },
   "source": [
    "# Feature engineering"
   ]
  },
  {
   "cell_type": "code",
   "execution_count": null,
   "metadata": {
    "id": "Mp7mEXqzzguj"
   },
   "outputs": [],
   "source": [
    "from sklearn.preprocessing import LabelEncoder\n",
    "\n",
    "new_data = data.copy()\n",
    "le = LabelEncoder()\n",
    "new_data['manager_encoded'] = le.fit_transform(data['manager_id'])"
   ]
  },
  {
   "cell_type": "code",
   "execution_count": null,
   "metadata": {
    "id": "QNITVmwLDWZG"
   },
   "outputs": [],
   "source": [
    "le_2 = LabelEncoder()\n",
    "\n",
    "new_data['building_encoded'] = le_2.fit_transform(data['building_id'])"
   ]
  },
  {
   "cell_type": "code",
   "execution_count": null,
   "metadata": {
    "id": "ibpsG5IVztca"
   },
   "outputs": [],
   "source": [
    "new_data.drop(columns=['manager_id', 'building_id'], inplace=True)"
   ]
  },
  {
   "cell_type": "code",
   "execution_count": null,
   "metadata": {
    "id": "lUPUtJoWuLkh"
   },
   "outputs": [],
   "source": [
    "def count_photos(row):\n",
    "    return len(eval(row))\n",
    "\n",
    "new_data['photo_count'] = data['photos'].apply(count_photos)"
   ]
  },
  {
   "cell_type": "code",
   "execution_count": null,
   "metadata": {
    "id": "vkvrrvx1jN74"
   },
   "outputs": [],
   "source": [
    "description = data['description'].astype(str)"
   ]
  },
  {
   "cell_type": "code",
   "execution_count": null,
   "metadata": {
    "id": "tRD9yPyBSg9V"
   },
   "outputs": [],
   "source": [
    "def str_to_arr(row):\n",
    "  return eval(row)\n",
    "\n",
    "new_data['features_new'] = data['features'].apply(str_to_arr)\n"
   ]
  },
  {
   "cell_type": "code",
   "execution_count": null,
   "metadata": {
    "id": "WAMwf7p3ZX21"
   },
   "outputs": [],
   "source": [
    "from sklearn.feature_extraction.text import CountVectorizer\n",
    "\n",
    "vectorizer = CountVectorizer(token_pattern=r\"'([^']+)'\")\n",
    "\n",
    "X = vectorizer.fit_transform(data['features'])\n",
    "\n",
    "features_matrix = X.toarray()\n",
    "\n",
    "new_df = pd.DataFrame(features_matrix, columns=vectorizer.vocabulary_)\n",
    "\n",
    "new_data = pd.concat([new_data, new_df], axis=1)\n"
   ]
  },
  {
   "cell_type": "code",
   "execution_count": null,
   "metadata": {
    "id": "yvtUpdoOn9gM"
   },
   "outputs": [],
   "source": [
    "first_proba_data = new_data.copy().drop(columns=['Id', 'created', 'display_address', 'features', 'photos', 'street_address', \n",
    "                                                 'listing_id', 'description', 'features_new'])"
   ]
  },
  {
   "cell_type": "code",
   "execution_count": 344,
   "metadata": {
    "id": "U7qZ7NYaT6hW"
   },
   "outputs": [],
   "source": [
    "from sklearn.model_selection import StratifiedShuffleSplit\n",
    "\n",
    "split = StratifiedShuffleSplit(n_splits=1, test_size=0.2, random_state=42)\n",
    "\n",
    "for train_index, test_index in split.split(first_proba_data, new_data[\"TARGET\"]):\n",
    "    strat_train_set = first_proba_data.loc[train_index]\n",
    "    strat_test_set = first_proba_data.loc[test_index]\n",
    "X_train = strat_train_set.drop(columns=['TARGET'])\n",
    "y_train = strat_train_set['TARGET']\n",
    "X_test = strat_test_set.drop(columns=['TARGET'])\n",
    "y_test = strat_test_set['TARGET']"
   ]
  },
  {
   "cell_type": "code",
   "execution_count": 345,
   "metadata": {
    "id": "l4wguC4hNqDP"
   },
   "outputs": [],
   "source": [
    "mean_long = X_train['longitude'].mean()\n",
    "X_train.loc[X_train['longitude'] == 0, 'longitude'] = mean_long\n",
    "X_test.loc[X_test['longitude'] == 0, 'longitude'] = mean_long"
   ]
  },
  {
   "cell_type": "code",
   "execution_count": 346,
   "metadata": {
    "id": "pP3S7OzLOI9O"
   },
   "outputs": [],
   "source": [
    "mean_lat = X_train['latitude'].mean()\n",
    "X_train.loc[X_train['latitude'] == 0, 'latitude'] = mean_lat\n",
    "X_test.loc[X_test['latitude'] == 0, 'latitude'] = mean_lat"
   ]
  },
  {
   "cell_type": "markdown",
   "metadata": {
    "id": "RMCkHnmz3TWN"
   },
   "source": [
    "# Выбор целевой метрики"
   ]
  },
  {
   "cell_type": "markdown",
   "metadata": {
    "id": "kEZbjHBx3YN9"
   },
   "source": [
    "В качестве целевой метрики я буду использовать **Precision**."
   ]
  },
  {
   "cell_type": "markdown",
   "metadata": {
    "id": "rGpbWnA63qfN"
   },
   "source": [
    "**Precision** хорошо подходит для проблем с несбалансированными классами, так как показывает правильность модели при определении целевого класса."
   ]
  },
  {
   "cell_type": "code",
   "execution_count": null,
   "metadata": {
    "colab": {
     "base_uri": "https://localhost:8080/"
    },
    "id": "OHSw6Z7N37z-",
    "outputId": "a2cd6a6f-c9e3-417c-e840-2f0372de4c21"
   },
   "outputs": [
    {
     "name": "stdout",
     "output_type": "stream",
     "text": [
      "low       69.469693\n",
      "medium    22.752272\n",
      "high       7.778035\n",
      "Name: TARGET, dtype: float64\n"
     ]
    }
   ],
   "source": [
    "counts = data.TARGET.value_counts()\n",
    "percentages = counts / len(data) * 100\n",
    "print(percentages)"
   ]
  },
  {
   "cell_type": "markdown",
   "metadata": {
    "id": "vN92ZgYE4Rll"
   },
   "source": [
    "Тут видно, что класса 'low' в датасете больше всего, а именно больше 2/3."
   ]
  },
  {
   "cell_type": "markdown",
   "metadata": {
    "id": "S2fGhWdm5oEh"
   },
   "source": [
    "Кроме этого precision измеряет насколько точно модель предсказывает положительные случаи. То есть сколько положительных предсказанных моделью случаев также положительны и в датасете."
   ]
  },
  {
   "cell_type": "markdown",
   "metadata": {
    "id": "emsmWKlwOUhK"
   },
   "source": [
    "Возьму также weighted precision, потому что количество элементов каждого класса сильно различается между собой, поэтому так будет нагляднее."
   ]
  },
  {
   "cell_type": "markdown",
   "metadata": {
    "id": "J7nrf7S5V7qQ"
   },
   "source": [
    "# Проведение экспериментов"
   ]
  },
  {
   "cell_type": "markdown",
   "metadata": {
    "id": "95FeZvng-lLZ"
   },
   "source": [
    "Для начала посмотрим разные модели."
   ]
  },
  {
   "cell_type": "code",
   "execution_count": 354,
   "metadata": {
    "colab": {
     "base_uri": "https://localhost:8080/"
    },
    "id": "IhrKge6JlQKx",
    "outputId": "2cf52ddb-12aa-44cc-c73d-e1a61bc4b189"
   },
   "outputs": [
    {
     "name": "stdout",
     "output_type": "stream",
     "text": [
      "Train precision: 0.9836488070544839\n",
      "Test precision: 0.6742526091994252\n"
     ]
    }
   ],
   "source": [
    "from sklearn.tree import DecisionTreeClassifier\n",
    "from sklearn.metrics import precision_score\n",
    "\n",
    "dtc = DecisionTreeClassifier()\n",
    "\n",
    "dtc.fit(X_train, y_train)\n",
    "\n",
    "y_train_dtc_pred = dtc.predict(X_train)\n",
    "y_test_dtc_pred = dtc.predict(X_test)\n",
    "\n",
    "print(\"Train precision: {}\".format(precision_score(y_train, y_train_dtc_pred, average='weighted')))\n",
    "\n",
    "print(\"Test precision: {}\".format(precision_score(y_test, y_test_dtc_pred, average='weighted')))"
   ]
  },
  {
   "cell_type": "code",
   "execution_count": 358,
   "metadata": {
    "colab": {
     "base_uri": "https://localhost:8080/"
    },
    "id": "mq6MBlwv1aPz",
    "outputId": "d29b2d04-782f-4914-ac15-78914848bdea"
   },
   "outputs": [
    {
     "name": "stdout",
     "output_type": "stream",
     "text": [
      "Train precision: 0.9832594963887066\n",
      "Test precision: 0.6792349362230226\n"
     ]
    }
   ],
   "source": [
    "from sklearn.ensemble import RandomForestClassifier\n",
    "\n",
    "rfc = RandomForestClassifier()\n",
    "\n",
    "rfc.fit(X_train, y_train)\n",
    "\n",
    "y_train_rfc_pred = rfc.predict(X_train)\n",
    "y_test_rfc_pred = rfc.predict(X_test)\n",
    "\n",
    "print(\"Train precision: {}\".format(precision_score(y_train, y_train_rfc_pred, average='weighted')))\n",
    "\n",
    "print(\"Test precision: {}\".format(precision_score(y_test, y_test_rfc_pred, average='weighted')))"
   ]
  },
  {
   "cell_type": "code",
   "execution_count": 359,
   "metadata": {
    "colab": {
     "base_uri": "https://localhost:8080/"
    },
    "id": "wWlKnCFw1vXE",
    "outputId": "a7800970-1e0e-45d5-b417-a818db37a03b"
   },
   "outputs": [
    {
     "name": "stdout",
     "output_type": "stream",
     "text": [
      "Train precision: 0.9836488070544839\n",
      "Test precision: 0.6608897861005611\n"
     ]
    }
   ],
   "source": [
    "from sklearn.ensemble import ExtraTreesClassifier\n",
    "\n",
    "etc = ExtraTreesClassifier()\n",
    "\n",
    "etc.fit(X_train, y_train)\n",
    "\n",
    "y_train_etc_pred = etc.predict(X_train)\n",
    "y_test_etc_pred = etc.predict(X_test)\n",
    "\n",
    "print(\"Train precision: {}\".format(precision_score(y_train, y_train_etc_pred, average='weighted')))\n",
    "\n",
    "print(\"Test precision: {}\".format(precision_score(y_test, y_test_etc_pred, average='weighted')))"
   ]
  },
  {
   "cell_type": "code",
   "execution_count": 361,
   "metadata": {
    "colab": {
     "base_uri": "https://localhost:8080/"
    },
    "id": "lb3_sojR2tDL",
    "outputId": "f6968c10-bcd1-4075-997a-ac1fbcc74f3d"
   },
   "outputs": [
    {
     "name": "stdout",
     "output_type": "stream",
     "text": [
      "Train precision: 0.7129267746263463\n",
      "Test precision: 0.6792365861129988\n"
     ]
    }
   ],
   "source": [
    "from sklearn.ensemble import GradientBoostingClassifier\n",
    "\n",
    "gbc = GradientBoostingClassifier()\n",
    "\n",
    "gbc.fit(X_train, y_train)\n",
    "\n",
    "y_train_gbc_pred = gbc.predict(X_train)\n",
    "y_test_gbc_pred = gbc.predict(X_test)\n",
    "\n",
    "print(\"Train precision: {}\".format(precision_score(y_train, y_train_gbc_pred, average='weighted')))\n",
    "\n",
    "print(\"Test precision: {}\".format(precision_score(y_test, y_test_gbc_pred, average='weighted')))"
   ]
  },
  {
   "cell_type": "code",
   "execution_count": 363,
   "metadata": {
    "colab": {
     "base_uri": "https://localhost:8080/"
    },
    "id": "il250I9K5_mK",
    "outputId": "d94aeaee-048e-42ea-a7e9-b9e40225b13a"
   },
   "outputs": [
    {
     "name": "stdout",
     "output_type": "stream",
     "text": [
      "Train precision: 0.6821604061017028\n",
      "Test precision: 0.6691074192953879\n"
     ]
    }
   ],
   "source": [
    "from sklearn.ensemble import AdaBoostClassifier\n",
    "\n",
    "abc = AdaBoostClassifier()\n",
    "\n",
    "abc.fit(X_train, y_train)\n",
    "\n",
    "\n",
    "y_train_abc_pred = abc.predict(X_train)\n",
    "y_test_abc_pred = abc.predict(X_test)\n",
    "\n",
    "print(\"Train precision: {}\".format(precision_score(y_train, y_train_abc_pred, average='weighted')))\n",
    "\n",
    "print(\"Test precision: {}\".format(precision_score(y_test, y_test_abc_pred, average='weighted')))"
   ]
  },
  {
   "cell_type": "markdown",
   "metadata": {
    "id": "HDZSX8anERVI"
   },
   "source": [
    "По итогу обучения нескольких моделей видно, что деревья хорошо обучаются на тренировочной выборке, но на тестовой не очень. А другие примерно одинаково."
   ]
  },
  {
   "cell_type": "code",
   "execution_count": 373,
   "metadata": {
    "colab": {
     "base_uri": "https://localhost:8080/"
    },
    "id": "_PmVyLPVF9ML",
    "outputId": "3f700632-0bac-4038-e340-086fc7999daf"
   },
   "outputs": [
    {
     "name": "stdout",
     "output_type": "stream",
     "text": [
      "Количество деревьев:  50\n",
      "Train precision: 0.9831544747510609\n",
      "Test precision: 0.6702938301536584\n",
      "Количество деревьев:  100\n",
      "Train precision: 0.9832642452821959\n",
      "Test precision: 0.6806970455251813\n",
      "Количество деревьев:  200\n",
      "Train precision: 0.9832644669098513\n",
      "Test precision: 0.6803965792269726\n",
      "Количество деревьев:  500\n",
      "Train precision: 0.9832578327695304\n",
      "Test precision: 0.6814006672699078\n"
     ]
    }
   ],
   "source": [
    "n_estimators_list = [50, 100, 200, 500]\n",
    "\n",
    "rfc_n = RandomForestClassifier(random_state=42)\n",
    "\n",
    "for n_estimators in n_estimators_list:\n",
    "    rfc_n.set_params(n_estimators=n_estimators)\n",
    "    \n",
    "    rfc_n.fit(X_train, y_train)\n",
    "    \n",
    "    y_train_rfc_n_pred = rfc_n.predict(X_train)\n",
    "    y_test_rfc_n_pred = rfc_n.predict(X_test)\n",
    "    \n",
    "    print(\"Количество деревьев: \", n_estimators)\n",
    "    print(\"Train precision: {}\".format(precision_score(y_train, y_train_rfc_n_pred, average='weighted')))\n",
    "    print(\"Test precision: {}\".format(precision_score(y_test, y_test_rfc_n_pred, average='weighted')))"
   ]
  },
  {
   "cell_type": "markdown",
   "metadata": {
    "id": "L6kySB9dMHbH"
   },
   "source": [
    "При увеличении числа деревьев precision приближается к 1, однако этот рост настолько мал."
   ]
  },
  {
   "cell_type": "code",
   "execution_count": null,
   "metadata": {
    "colab": {
     "base_uri": "https://localhost:8080/"
    },
    "id": "3SeRm1LXHi0u",
    "outputId": "747e4c40-7e63-4a30-8a70-84031be9058d"
   },
   "outputs": [
    {
     "name": "stdout",
     "output_type": "stream",
     "text": [
      "Количество признаков:  2\n",
      "Train precision: 0.9830462707763571\n",
      "Test precision: 0.6721935868631589\n",
      "Количество признаков:  3\n",
      "Train precision: 0.9831139685931338\n",
      "Test precision: 0.6728178731019604\n",
      "Количество признаков:  4\n",
      "Train precision: 0.9831264692786998\n",
      "Test precision: 0.6789487614959083\n"
     ]
    }
   ],
   "source": [
    "max_features_list = [2, 3, 4]\n",
    "\n",
    "rfc_n = RandomForestClassifier(random_state=42, n_estimators=50)\n",
    "\n",
    "for max_features in max_features_list:\n",
    "    rfc_n.set_params(max_features=max_features)\n",
    "    \n",
    "    rfc_n.fit(X_train, y_train)\n",
    "    \n",
    "    y_train_rfc_n_pred = rfc_n.predict(X_train)\n",
    "    y_test_rfc_n_pred = rfc_n.predict(X_test)\n",
    "    \n",
    "    print(\"Количество признаков: \", max_features)\n",
    "    print(\"Train precision: {}\".format(precision_score(y_train, y_train_rfc_n_pred, average='weighted')))\n",
    "    print(\"Test precision: {}\".format(precision_score(y_test, y_test_rfc_n_pred, average='weighted')))"
   ]
  },
  {
   "cell_type": "markdown",
   "metadata": {
    "id": "464z8yIzMQwN"
   },
   "source": [
    "При увеличении числа признаков ничего особенного не происходит."
   ]
  },
  {
   "cell_type": "code",
   "execution_count": 381,
   "metadata": {
    "colab": {
     "base_uri": "https://localhost:8080/"
    },
    "id": "qEKSmD-AJA5G",
    "outputId": "8038338f-58e0-433c-b515-532f6bab8130"
   },
   "outputs": [
    {
     "metadata": {
      "tags": null
     },
     "name": "stdout",
     "output_type": "stream",
     "text": [
      "Максимальная глубина:  10\n",
      "Train precision: 0.787946835311976\n",
      "Test precision: 0.7878868478536318\n",
      "Максимальная глубина:  20\n",
      "Train precision: 0.7880866041193676\n",
      "Test precision: 0.6741778026189983\n",
      "Максимальная глубина:  50\n",
      "Train precision: 0.8125304928788448\n",
      "Test precision: 0.641100617761855\n",
      "Максимальная глубина:  100\n",
      "Train precision: 0.9637575329402045\n",
      "Test precision: 0.66637407531994\n",
      "Максимальная глубина:  500\n",
      "Train precision: 0.9831139685931338\n",
      "Test precision: 0.6728178731019604\n"
     ]
    }
   ],
   "source": [
    "max_depth_list = [10, 20, 50, 100, 500]\n",
    "\n",
    "rfc_n = RandomForestClassifier(random_state=42, n_estimators=50, max_features=3)\n",
    "\n",
    "for max_depth in max_depth_list:\n",
    "    rfc_n.set_params(max_depth=max_depth)\n",
    "    \n",
    "    rfc_n.fit(X_train, y_train)\n",
    "    \n",
    "    y_train_rfc_n_pred = rfc_n.predict(X_train)\n",
    "    y_test_rfc_n_pred = rfc_n.predict(X_test)\n",
    "    \n",
    "    print(\"Максимальная глубина: \", max_depth)\n",
    "    print(\"Train precision: {}\".format(precision_score(y_train, y_train_rfc_n_pred, average='weighted', zero_division=1)))\n",
    "    print(\"Test precision: {}\".format(precision_score(y_test, y_test_rfc_n_pred, average='weighted', zero_division=1)))"
   ]
  },
  {
   "cell_type": "markdown",
   "metadata": {
    "id": "tQbaYowLLCgS"
   },
   "source": [
    "# Анализ ошибок модели"
   ]
  },
  {
   "cell_type": "code",
   "execution_count": 400,
   "metadata": {
    "colab": {
     "base_uri": "https://localhost:8080/"
    },
    "id": "75Xz2OppMbv9",
    "outputId": "a81562af-5809-4f01-8bcb-34e8052305fc"
   },
   "outputs": [
    {
     "name": "stdout",
     "output_type": "stream",
     "text": [
      "Train precision: 0.787946835311976\n",
      "Test precision: 0.7878868478536318\n"
     ]
    }
   ],
   "source": [
    "rfc_n_10 = RandomForestClassifier(random_state=42, n_estimators=50, max_features=3, max_depth=10)\n",
    "rfc_n_10.fit(X_train, y_train)\n",
    "    \n",
    "y_train_rfc_n10_pred = rfc_n_10.predict(X_train)\n",
    "y_test_rfc_n10_pred = rfc_n_10.predict(X_test)\n",
    "\n",
    "print(\"Train precision: {}\".format(precision_score(y_train, y_train_rfc_n10_pred, average='weighted', zero_division=1)))\n",
    "print(\"Test precision: {}\".format(precision_score(y_test, y_test_rfc_n10_pred, average='weighted', zero_division=1)))"
   ]
  },
  {
   "cell_type": "markdown",
   "metadata": {
    "id": "blOFmr0xNdCe"
   },
   "source": [
    "Возьму модель, которая лучше всего предсказала, то есть с глубиной 10."
   ]
  },
  {
   "cell_type": "code",
   "execution_count": 403,
   "metadata": {
    "colab": {
     "base_uri": "https://localhost:8080/",
     "height": 359
    },
    "id": "klMH9z1NqNG9",
    "outputId": "e60125a8-cf44-4942-b596-c67a90c00d5c"
   },
   "outputs": [
    {
     "data": {
      "text/html": [
       "\n",
       "  <div id=\"df-0905e13c-f9b7-491e-ae70-93003fd82db3\">\n",
       "    <div class=\"colab-df-container\">\n",
       "      <div>\n",
       "<style scoped>\n",
       "    .dataframe tbody tr th:only-of-type {\n",
       "        vertical-align: middle;\n",
       "    }\n",
       "\n",
       "    .dataframe tbody tr th {\n",
       "        vertical-align: top;\n",
       "    }\n",
       "\n",
       "    .dataframe thead th {\n",
       "        text-align: right;\n",
       "    }\n",
       "</style>\n",
       "<table border=\"1\" class=\"dataframe\">\n",
       "  <thead>\n",
       "    <tr style=\"text-align: right;\">\n",
       "      <th></th>\n",
       "      <th>pred</th>\n",
       "      <th>test</th>\n",
       "    </tr>\n",
       "  </thead>\n",
       "  <tbody>\n",
       "    <tr>\n",
       "      <th>8469</th>\n",
       "      <td>low</td>\n",
       "      <td>high</td>\n",
       "    </tr>\n",
       "    <tr>\n",
       "      <th>15990</th>\n",
       "      <td>low</td>\n",
       "      <td>low</td>\n",
       "    </tr>\n",
       "    <tr>\n",
       "      <th>8948</th>\n",
       "      <td>low</td>\n",
       "      <td>low</td>\n",
       "    </tr>\n",
       "    <tr>\n",
       "      <th>2890</th>\n",
       "      <td>low</td>\n",
       "      <td>medium</td>\n",
       "    </tr>\n",
       "    <tr>\n",
       "      <th>15401</th>\n",
       "      <td>low</td>\n",
       "      <td>low</td>\n",
       "    </tr>\n",
       "    <tr>\n",
       "      <th>15374</th>\n",
       "      <td>low</td>\n",
       "      <td>low</td>\n",
       "    </tr>\n",
       "    <tr>\n",
       "      <th>14892</th>\n",
       "      <td>low</td>\n",
       "      <td>low</td>\n",
       "    </tr>\n",
       "    <tr>\n",
       "      <th>26903</th>\n",
       "      <td>low</td>\n",
       "      <td>high</td>\n",
       "    </tr>\n",
       "    <tr>\n",
       "      <th>12298</th>\n",
       "      <td>low</td>\n",
       "      <td>low</td>\n",
       "    </tr>\n",
       "    <tr>\n",
       "      <th>29936</th>\n",
       "      <td>low</td>\n",
       "      <td>low</td>\n",
       "    </tr>\n",
       "  </tbody>\n",
       "</table>\n",
       "</div>\n",
       "      <button class=\"colab-df-convert\" onclick=\"convertToInteractive('df-0905e13c-f9b7-491e-ae70-93003fd82db3')\"\n",
       "              title=\"Convert this dataframe to an interactive table.\"\n",
       "              style=\"display:none;\">\n",
       "        \n",
       "  <svg xmlns=\"http://www.w3.org/2000/svg\" height=\"24px\"viewBox=\"0 0 24 24\"\n",
       "       width=\"24px\">\n",
       "    <path d=\"M0 0h24v24H0V0z\" fill=\"none\"/>\n",
       "    <path d=\"M18.56 5.44l.94 2.06.94-2.06 2.06-.94-2.06-.94-.94-2.06-.94 2.06-2.06.94zm-11 1L8.5 8.5l.94-2.06 2.06-.94-2.06-.94L8.5 2.5l-.94 2.06-2.06.94zm10 10l.94 2.06.94-2.06 2.06-.94-2.06-.94-.94-2.06-.94 2.06-2.06.94z\"/><path d=\"M17.41 7.96l-1.37-1.37c-.4-.4-.92-.59-1.43-.59-.52 0-1.04.2-1.43.59L10.3 9.45l-7.72 7.72c-.78.78-.78 2.05 0 2.83L4 21.41c.39.39.9.59 1.41.59.51 0 1.02-.2 1.41-.59l7.78-7.78 2.81-2.81c.8-.78.8-2.07 0-2.86zM5.41 20L4 18.59l7.72-7.72 1.47 1.35L5.41 20z\"/>\n",
       "  </svg>\n",
       "      </button>\n",
       "      \n",
       "  <style>\n",
       "    .colab-df-container {\n",
       "      display:flex;\n",
       "      flex-wrap:wrap;\n",
       "      gap: 12px;\n",
       "    }\n",
       "\n",
       "    .colab-df-convert {\n",
       "      background-color: #E8F0FE;\n",
       "      border: none;\n",
       "      border-radius: 50%;\n",
       "      cursor: pointer;\n",
       "      display: none;\n",
       "      fill: #1967D2;\n",
       "      height: 32px;\n",
       "      padding: 0 0 0 0;\n",
       "      width: 32px;\n",
       "    }\n",
       "\n",
       "    .colab-df-convert:hover {\n",
       "      background-color: #E2EBFA;\n",
       "      box-shadow: 0px 1px 2px rgba(60, 64, 67, 0.3), 0px 1px 3px 1px rgba(60, 64, 67, 0.15);\n",
       "      fill: #174EA6;\n",
       "    }\n",
       "\n",
       "    [theme=dark] .colab-df-convert {\n",
       "      background-color: #3B4455;\n",
       "      fill: #D2E3FC;\n",
       "    }\n",
       "\n",
       "    [theme=dark] .colab-df-convert:hover {\n",
       "      background-color: #434B5C;\n",
       "      box-shadow: 0px 1px 3px 1px rgba(0, 0, 0, 0.15);\n",
       "      filter: drop-shadow(0px 1px 2px rgba(0, 0, 0, 0.3));\n",
       "      fill: #FFFFFF;\n",
       "    }\n",
       "  </style>\n",
       "\n",
       "      <script>\n",
       "        const buttonEl =\n",
       "          document.querySelector('#df-0905e13c-f9b7-491e-ae70-93003fd82db3 button.colab-df-convert');\n",
       "        buttonEl.style.display =\n",
       "          google.colab.kernel.accessAllowed ? 'block' : 'none';\n",
       "\n",
       "        async function convertToInteractive(key) {\n",
       "          const element = document.querySelector('#df-0905e13c-f9b7-491e-ae70-93003fd82db3');\n",
       "          const dataTable =\n",
       "            await google.colab.kernel.invokeFunction('convertToInteractive',\n",
       "                                                     [key], {});\n",
       "          if (!dataTable) return;\n",
       "\n",
       "          const docLinkHtml = 'Like what you see? Visit the ' +\n",
       "            '<a target=\"_blank\" href=https://colab.research.google.com/notebooks/data_table.ipynb>data table notebook</a>'\n",
       "            + ' to learn more about interactive tables.';\n",
       "          element.innerHTML = '';\n",
       "          dataTable['output_type'] = 'display_data';\n",
       "          await google.colab.output.renderOutput(dataTable, element);\n",
       "          const docLink = document.createElement('div');\n",
       "          docLink.innerHTML = docLinkHtml;\n",
       "          element.appendChild(docLink);\n",
       "        }\n",
       "      </script>\n",
       "    </div>\n",
       "  </div>\n",
       "  "
      ],
      "text/plain": [
       "      pred    test\n",
       "8469   low    high\n",
       "15990  low     low\n",
       "8948   low     low\n",
       "2890   low  medium\n",
       "15401  low     low\n",
       "15374  low     low\n",
       "14892  low     low\n",
       "26903  low    high\n",
       "12298  low     low\n",
       "29936  low     low"
      ]
     },
     "execution_count": 403,
     "metadata": {},
     "output_type": "execute_result"
    }
   ],
   "source": [
    "pd.DataFrame(data={'pred': y_test_rfc_n10_pred, 'test': y_test}).head(10)"
   ]
  },
  {
   "cell_type": "markdown",
   "metadata": {
    "id": "D_4F6leXNvTs"
   },
   "source": [
    "При более детальном изучении предсказаний можно увидеть, что модель просто постоянно предсказыает класс 'low'. Что, конечно же, не есть хорошо, однако такая модель пресказывает лучше других."
   ]
  },
  {
   "cell_type": "code",
   "execution_count": 404,
   "metadata": {
    "colab": {
     "base_uri": "https://localhost:8080/"
    },
    "id": "NEtjYY4UN3TT",
    "outputId": "7dc05379-009b-4c52-9a19-dd3c25b3f915"
   },
   "outputs": [
    {
     "data": {
      "text/plain": [
       "pred\n",
       "low     6910\n",
       "dtype: int64"
      ]
     },
     "execution_count": 404,
     "metadata": {},
     "output_type": "execute_result"
    }
   ],
   "source": [
    "pd.DataFrame(data={'pred': y_test_rfc_n10_pred}).value_counts()"
   ]
  },
  {
   "cell_type": "markdown",
   "metadata": {
    "id": "ZYzzZJqeOF3_"
   },
   "source": [
    "На самом деле видимо эта модель не искала каких-то особенных правил, а просто поняла, что большинством занимает класс 'low'."
   ]
  },
  {
   "cell_type": "code",
   "execution_count": 405,
   "metadata": {
    "colab": {
     "base_uri": "https://localhost:8080/"
    },
    "id": "p2cQnUIROmuR",
    "outputId": "55b6ae9f-55a3-4aa3-c6a1-1c0b2e688589"
   },
   "outputs": [
    {
     "name": "stdout",
     "output_type": "stream",
     "text": [
      "Train precision: 0.9836488070544839\n",
      "Test precision: 0.6778469610152567\n"
     ]
    }
   ],
   "source": [
    "from sklearn.tree import DecisionTreeClassifier\n",
    "from sklearn.metrics import precision_score\n",
    "\n",
    "dtc = DecisionTreeClassifier()\n",
    "\n",
    "dtc.fit(X_train, y_train)\n",
    "\n",
    "y_train_dtc_pred = dtc.predict(X_train)\n",
    "y_test_dtc_pred = dtc.predict(X_test)\n",
    "\n",
    "print(\"Train precision: {}\".format(precision_score(y_train, y_train_dtc_pred, average='weighted')))\n",
    "\n",
    "print(\"Test precision: {}\".format(precision_score(y_test, y_test_dtc_pred, average='weighted')))"
   ]
  },
  {
   "cell_type": "code",
   "execution_count": 406,
   "metadata": {
    "colab": {
     "base_uri": "https://localhost:8080/",
     "height": 359
    },
    "id": "6R92b3z3Opwv",
    "outputId": "adff520a-f084-4aad-aefe-f2713e38e981"
   },
   "outputs": [
    {
     "data": {
      "text/html": [
       "\n",
       "  <div id=\"df-ebea06c5-5bba-4031-bc8d-ae005d0ffa2b\">\n",
       "    <div class=\"colab-df-container\">\n",
       "      <div>\n",
       "<style scoped>\n",
       "    .dataframe tbody tr th:only-of-type {\n",
       "        vertical-align: middle;\n",
       "    }\n",
       "\n",
       "    .dataframe tbody tr th {\n",
       "        vertical-align: top;\n",
       "    }\n",
       "\n",
       "    .dataframe thead th {\n",
       "        text-align: right;\n",
       "    }\n",
       "</style>\n",
       "<table border=\"1\" class=\"dataframe\">\n",
       "  <thead>\n",
       "    <tr style=\"text-align: right;\">\n",
       "      <th></th>\n",
       "      <th>pred</th>\n",
       "      <th>test</th>\n",
       "    </tr>\n",
       "  </thead>\n",
       "  <tbody>\n",
       "    <tr>\n",
       "      <th>8469</th>\n",
       "      <td>medium</td>\n",
       "      <td>high</td>\n",
       "    </tr>\n",
       "    <tr>\n",
       "      <th>15990</th>\n",
       "      <td>low</td>\n",
       "      <td>low</td>\n",
       "    </tr>\n",
       "    <tr>\n",
       "      <th>8948</th>\n",
       "      <td>low</td>\n",
       "      <td>low</td>\n",
       "    </tr>\n",
       "    <tr>\n",
       "      <th>2890</th>\n",
       "      <td>medium</td>\n",
       "      <td>medium</td>\n",
       "    </tr>\n",
       "    <tr>\n",
       "      <th>15401</th>\n",
       "      <td>low</td>\n",
       "      <td>low</td>\n",
       "    </tr>\n",
       "    <tr>\n",
       "      <th>15374</th>\n",
       "      <td>low</td>\n",
       "      <td>low</td>\n",
       "    </tr>\n",
       "    <tr>\n",
       "      <th>14892</th>\n",
       "      <td>low</td>\n",
       "      <td>low</td>\n",
       "    </tr>\n",
       "    <tr>\n",
       "      <th>26903</th>\n",
       "      <td>medium</td>\n",
       "      <td>high</td>\n",
       "    </tr>\n",
       "    <tr>\n",
       "      <th>12298</th>\n",
       "      <td>low</td>\n",
       "      <td>low</td>\n",
       "    </tr>\n",
       "    <tr>\n",
       "      <th>29936</th>\n",
       "      <td>low</td>\n",
       "      <td>low</td>\n",
       "    </tr>\n",
       "  </tbody>\n",
       "</table>\n",
       "</div>\n",
       "      <button class=\"colab-df-convert\" onclick=\"convertToInteractive('df-ebea06c5-5bba-4031-bc8d-ae005d0ffa2b')\"\n",
       "              title=\"Convert this dataframe to an interactive table.\"\n",
       "              style=\"display:none;\">\n",
       "        \n",
       "  <svg xmlns=\"http://www.w3.org/2000/svg\" height=\"24px\"viewBox=\"0 0 24 24\"\n",
       "       width=\"24px\">\n",
       "    <path d=\"M0 0h24v24H0V0z\" fill=\"none\"/>\n",
       "    <path d=\"M18.56 5.44l.94 2.06.94-2.06 2.06-.94-2.06-.94-.94-2.06-.94 2.06-2.06.94zm-11 1L8.5 8.5l.94-2.06 2.06-.94-2.06-.94L8.5 2.5l-.94 2.06-2.06.94zm10 10l.94 2.06.94-2.06 2.06-.94-2.06-.94-.94-2.06-.94 2.06-2.06.94z\"/><path d=\"M17.41 7.96l-1.37-1.37c-.4-.4-.92-.59-1.43-.59-.52 0-1.04.2-1.43.59L10.3 9.45l-7.72 7.72c-.78.78-.78 2.05 0 2.83L4 21.41c.39.39.9.59 1.41.59.51 0 1.02-.2 1.41-.59l7.78-7.78 2.81-2.81c.8-.78.8-2.07 0-2.86zM5.41 20L4 18.59l7.72-7.72 1.47 1.35L5.41 20z\"/>\n",
       "  </svg>\n",
       "      </button>\n",
       "      \n",
       "  <style>\n",
       "    .colab-df-container {\n",
       "      display:flex;\n",
       "      flex-wrap:wrap;\n",
       "      gap: 12px;\n",
       "    }\n",
       "\n",
       "    .colab-df-convert {\n",
       "      background-color: #E8F0FE;\n",
       "      border: none;\n",
       "      border-radius: 50%;\n",
       "      cursor: pointer;\n",
       "      display: none;\n",
       "      fill: #1967D2;\n",
       "      height: 32px;\n",
       "      padding: 0 0 0 0;\n",
       "      width: 32px;\n",
       "    }\n",
       "\n",
       "    .colab-df-convert:hover {\n",
       "      background-color: #E2EBFA;\n",
       "      box-shadow: 0px 1px 2px rgba(60, 64, 67, 0.3), 0px 1px 3px 1px rgba(60, 64, 67, 0.15);\n",
       "      fill: #174EA6;\n",
       "    }\n",
       "\n",
       "    [theme=dark] .colab-df-convert {\n",
       "      background-color: #3B4455;\n",
       "      fill: #D2E3FC;\n",
       "    }\n",
       "\n",
       "    [theme=dark] .colab-df-convert:hover {\n",
       "      background-color: #434B5C;\n",
       "      box-shadow: 0px 1px 3px 1px rgba(0, 0, 0, 0.15);\n",
       "      filter: drop-shadow(0px 1px 2px rgba(0, 0, 0, 0.3));\n",
       "      fill: #FFFFFF;\n",
       "    }\n",
       "  </style>\n",
       "\n",
       "      <script>\n",
       "        const buttonEl =\n",
       "          document.querySelector('#df-ebea06c5-5bba-4031-bc8d-ae005d0ffa2b button.colab-df-convert');\n",
       "        buttonEl.style.display =\n",
       "          google.colab.kernel.accessAllowed ? 'block' : 'none';\n",
       "\n",
       "        async function convertToInteractive(key) {\n",
       "          const element = document.querySelector('#df-ebea06c5-5bba-4031-bc8d-ae005d0ffa2b');\n",
       "          const dataTable =\n",
       "            await google.colab.kernel.invokeFunction('convertToInteractive',\n",
       "                                                     [key], {});\n",
       "          if (!dataTable) return;\n",
       "\n",
       "          const docLinkHtml = 'Like what you see? Visit the ' +\n",
       "            '<a target=\"_blank\" href=https://colab.research.google.com/notebooks/data_table.ipynb>data table notebook</a>'\n",
       "            + ' to learn more about interactive tables.';\n",
       "          element.innerHTML = '';\n",
       "          dataTable['output_type'] = 'display_data';\n",
       "          await google.colab.output.renderOutput(dataTable, element);\n",
       "          const docLink = document.createElement('div');\n",
       "          docLink.innerHTML = docLinkHtml;\n",
       "          element.appendChild(docLink);\n",
       "        }\n",
       "      </script>\n",
       "    </div>\n",
       "  </div>\n",
       "  "
      ],
      "text/plain": [
       "         pred    test\n",
       "8469   medium    high\n",
       "15990     low     low\n",
       "8948      low     low\n",
       "2890   medium  medium\n",
       "15401     low     low\n",
       "15374     low     low\n",
       "14892     low     low\n",
       "26903  medium    high\n",
       "12298     low     low\n",
       "29936     low     low"
      ]
     },
     "execution_count": 406,
     "metadata": {},
     "output_type": "execute_result"
    }
   ],
   "source": [
    "pd.DataFrame(data={'pred': y_test_dtc_pred, 'test': y_test}).head(10)"
   ]
  },
  {
   "cell_type": "code",
   "execution_count": 410,
   "metadata": {
    "colab": {
     "base_uri": "https://localhost:8080/"
    },
    "id": "dp5z2a5vOuJN",
    "outputId": "1329910d-8a7f-4626-d7d9-2e13e05ff2be"
   },
   "outputs": [
    {
     "data": {
      "text/plain": [
       "(bathrooms                                                                                               1.0000\n",
       " bedrooms                                                                                                2.0000\n",
       " latitude                                                                                               40.7967\n",
       " longitude                                                                                             -73.9623\n",
       " price                                                                                                2900.0000\n",
       "                                                                                                        ...    \n",
       " 700 sf                                                                                                  0.0000\n",
       " new                                                                                                     0.0000\n",
       " total reno. heart of west village                                                                       0.0000\n",
       " ** elegant east village! * massive 2br super share * modern & new * exposed brick * lndry bldg **       0.0000\n",
       " garage fitness facility laundry room valet lounge billiards room rooftop deck wifi access               0.0000\n",
       " Name: 8469, Length: 1023, dtype: float64,\n",
       " 'high')"
      ]
     },
     "execution_count": 410,
     "metadata": {},
     "output_type": "execute_result"
    }
   ],
   "source": [
    "X_test.loc[8469], y_test[8469]"
   ]
  },
  {
   "cell_type": "code",
   "execution_count": 411,
   "metadata": {
    "colab": {
     "base_uri": "https://localhost:8080/"
    },
    "id": "kw2MY0rYO3D9",
    "outputId": "a702336a-c4b5-4235-c365-2ef14ae2320e"
   },
   "outputs": [
    {
     "data": {
      "text/plain": [
       "(bathrooms                                                                                               1.0000\n",
       " bedrooms                                                                                                3.0000\n",
       " latitude                                                                                               40.7513\n",
       " longitude                                                                                             -73.9721\n",
       " price                                                                                                3995.0000\n",
       "                                                                                                        ...    \n",
       " 700 sf                                                                                                  0.0000\n",
       " new                                                                                                     0.0000\n",
       " total reno. heart of west village                                                                       0.0000\n",
       " ** elegant east village! * massive 2br super share * modern & new * exposed brick * lndry bldg **       0.0000\n",
       " garage fitness facility laundry room valet lounge billiards room rooftop deck wifi access               0.0000\n",
       " Name: 26903, Length: 1023, dtype: float64,\n",
       " 'high')"
      ]
     },
     "execution_count": 411,
     "metadata": {},
     "output_type": "execute_result"
    }
   ],
   "source": [
    "X_test.loc[26903], y_test[26903]"
   ]
  },
  {
   "cell_type": "markdown",
   "metadata": {
    "id": "dw4-Dny3PECA"
   },
   "source": [
    "Тут я уже взял уже другую модель. Сразу видно, что модель также хорошо определяет класс 'low', а с другими классами возникают проблемы, однако класс 'medium' модель все же определяет успешнее, чем класс 'high'. Это связано с количеством таких данных в тренировочной выборке, а также с количеством признаков. На мой взгляд я сделал слишком много признаков из столбца features, которые возможно особо не должны влиять на модель, но за счет количества все же получается слишком большое влияние."
   ]
  },
  {
   "cell_type": "code",
   "execution_count": 412,
   "metadata": {
    "colab": {
     "base_uri": "https://localhost:8080/"
    },
    "id": "HYVC3L7iPXkS",
    "outputId": "82493a6f-aab0-444c-c048-09179e5cffd8"
   },
   "outputs": [
    {
     "data": {
      "text/plain": [
       "pred  \n",
       "low       4791\n",
       "medium    1598\n",
       "high       521\n",
       "dtype: int64"
      ]
     },
     "execution_count": 412,
     "metadata": {},
     "output_type": "execute_result"
    }
   ],
   "source": [
    "pd.DataFrame(data={'pred': y_test_dtc_pred}).value_counts()"
   ]
  }
 ],
 "metadata": {
  "colab": {
   "collapsed_sections": [
    "GxFC5ROKjpmT"
   ],
   "provenance": [],
   "toc_visible": true
  },
  "kernelspec": {
   "display_name": "Python 3 (ipykernel)",
   "language": "python",
   "name": "python3"
  },
  "language_info": {
   "codemirror_mode": {
    "name": "ipython",
    "version": 3
   },
   "file_extension": ".py",
   "mimetype": "text/x-python",
   "name": "python",
   "nbconvert_exporter": "python",
   "pygments_lexer": "ipython3",
   "version": "3.10.9"
  }
 },
 "nbformat": 4,
 "nbformat_minor": 1
}
